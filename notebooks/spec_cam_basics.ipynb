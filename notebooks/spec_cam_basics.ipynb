{
 "cells": [
  {
   "cell_type": "code",
   "execution_count": null,
   "metadata": {},
   "outputs": [],
   "source": [
    "import numpy as np\n",
    "import matplotlib.pyplot as plt\n",
    "from scipy import constants\n",
    "\n",
    "from lmfit.models import ExpressionModel\n",
    "\n",
    "import arviz as az\n",
    "\n",
    "RANDOM_SEED = 8927\n",
    "rng = np.random.default_rng(RANDOM_SEED)\n",
    "az.style.library[\"arviz-darkgrid\"]['figure.constrained_layout.use'] = False\n",
    "az.style.use(\"arviz-darkgrid\")\n",
    "\n",
    "%matplotlib inline"
   ]
  },
  {
   "cell_type": "code",
   "execution_count": null,
   "metadata": {},
   "outputs": [],
   "source": [
    "abs0 = 273.15\n",
    "A = 2 * constants.h * (constants.c)**2\n",
    "B = (constants.h * constants.c) / constants.k"
   ]
  },
  {
   "cell_type": "markdown",
   "metadata": {},
   "source": [
    "## Basic wavelength dependence of intensity using Planck law"
   ]
  },
  {
   "cell_type": "markdown",
   "metadata": {},
   "source": [
    "$$\n",
    "B(\\lambda, T) = \\frac{2hc^2}{\\lambda^5}\\frac{1}{\\exp{\\frac{hc}{\\lambda k_B T}}-1} \\\\\n",
    "\n",
    "I = \\epsilon(\\lambda) B \\qquad (0 < \\epsilon < 1)\n",
    "$$"
   ]
  },
  {
   "cell_type": "code",
   "execution_count": null,
   "metadata": {},
   "outputs": [],
   "source": [
    "model_planck = ExpressionModel(\n",
    "    'A / (lam**5 * (exp(B / (lam * T)) - 1))', \n",
    "    independent_vars=['lam']\n",
    ")"
   ]
  },
  {
   "cell_type": "code",
   "execution_count": null,
   "metadata": {},
   "outputs": [],
   "source": [
    "fig = plt.figure()\n",
    "ax = plt.gca()\n",
    "\n",
    "lam_range = (0.3e-6, 6e-6)\n",
    "\n",
    "lam = np.linspace(*lam_range, 101)\n",
    "for T in [100, 200, 400, 500, 750, 1000, 2000, 3000]:\n",
    "    params = model_planck.make_params(A=A, B=B, T=T+abs0)\n",
    "    I = model_planck.eval(params, lam=lam)\n",
    "    ax.plot(lam, I, label=T)\n",
    "\n",
    "# ax.set_yscale('log') \n",
    "ax.set_ylim((0, 1e11))\n",
    "ax.set_xlim(lam_range)\n",
    "ax.set_xlabel('Wavelength ($\\mu$m)')\n",
    "ax.set_ylabel('Intensity')\n",
    "ax.legend(title='Temp ($^\\circ$C)', ncol=3)\n",
    "\n",
    "# for cam_name, cam_spec in camera_specs.items():\n",
    "#     ax.axvspan(cam_spec['lam_0'], cam_spec['lam_inf'], \n",
    "#                color=cam_spec['colour'], alpha=0.5, label=cam_name)\n"
   ]
  },
  {
   "cell_type": "code",
   "execution_count": null,
   "metadata": {},
   "outputs": [],
   "source": [
    "model_quadratic = ExpressionModel(\n",
    "    'A * (a0 + a1*lam + a2*lam**2) / (lam**5 * (exp(B / (lam * T)) - 1))', \n",
    "    independent_vars=['lam']\n",
    ")"
   ]
  },
  {
   "cell_type": "code",
   "execution_count": null,
   "metadata": {},
   "outputs": [],
   "source": [
    "fig = plt.figure()\n",
    "ax = plt.gca()\n",
    "\n",
    "lam = np.linspace(0.1e-6, 10e-6, 101)\n",
    "\n",
    "T = 1000\n",
    "\n",
    "a0, a1, a2 = 1, 0, 0\n",
    "params = model_quadratic.make_params(A=A, B=B, T=T+abs0, a0=a0, a1=a1, a2=a2)\n",
    "I = model_quadratic.eval(params, lam=lam)\n",
    "ax.plot(lam*1e6, I, label='black body')\n",
    "\n",
    "a0, a1, a2 = 0.5, 0, 0\n",
    "params = model_quadratic.make_params(A=A, B=B, T=T+abs0, a0=a0, a1=a1, a2=a2)\n",
    "I = model_quadratic.eval(params, lam=lam)\n",
    "ax.plot(lam*1e6, I, label='grey body ($\\epsilon = 0.5$)')\n",
    "\n",
    "# ax.set_yscale('log') \n",
    "# ax.set_ylim((1e6, 1e13))\n",
    "ax.set_xlabel('Wavelength ($\\mu$m)')\n",
    "ax.set_ylabel('Intensity')\n",
    "ax.legend()\n",
    "\n",
    "plt.show()"
   ]
  },
  {
   "cell_type": "markdown",
   "metadata": {
    "tags": []
   },
   "source": [
    "## Create test data\n",
    "Linear temperature gradient along a line of a grey body with noise"
   ]
  },
  {
   "cell_type": "code",
   "execution_count": null,
   "metadata": {},
   "outputs": [],
   "source": [
    "def intensity_func(T, lam, epsilon):\n",
    "    A = 2 * constants.h * (constants.c)**2\n",
    "    B = (constants.h * constants.c) / constants.k\n",
    "    \n",
    "    A * epsilon / (lam**5 * (np.exp(B / (lam * T)) - 1))"
   ]
  },
  {
   "cell_type": "code",
   "execution_count": null,
   "metadata": {},
   "outputs": [],
   "source": [
    "T_test = np.linspace(500+abs0, 3000+abs0, 1000)\n",
    "lam_test = np.linspace(0.1e-6, 10e-6, 10)\n",
    "epsilon = 0.8\n",
    "noise_sigma = 1e7\n",
    "\n",
    "mod_grey = ExpressionModel('A * epsilon / (lam**5 * (exp(B / (lam * T)) - 1))', independent_vars=['lam', 'T'])\n",
    "\n",
    "params = mod_grey.make_params(A=A, B=B, epsilon=epsilon)\n",
    "grid = np.meshgrid(lam_test, T_test, indexing='ij')\n",
    "I_test = mod_grey.eval(params, lam=grid[0], T=grid[1]) + np.random.normal(0, noise_sigma, (lam_test.size, T_test.size))\n",
    "I_test[I_test < 0] = 0."
   ]
  },
  {
   "cell_type": "code",
   "execution_count": null,
   "metadata": {},
   "outputs": [],
   "source": [
    "i_T = 999\n",
    "\n",
    "lam = np.linspace(0.1e-6, 10e-6, 100)\n",
    "\n",
    "mod_grey = ExpressionModel('A * epsilon / (lam**5 * (exp(B / (lam * T)) - 1))', independent_vars=['lam'])\n",
    "params = mod_grey.make_params(A=A, B=B, epsilon=epsilon, T=T_test[i_T])\n",
    "I = mod_grey.eval(params, lam=lam)\n",
    "\n",
    "plt.figure(figsize=(4, 3))\n",
    "ax = plt.gca()\n",
    "\n",
    "ax.plot(lam*1e6, I)\n",
    "ax.scatter(lam_test*1e6, I_test[:, i_T], marker='x')\n",
    "\n",
    "ax.set_title(f'{T_test[i_T]-abs0:.0f} $^\\circ$C')\n",
    "ax.set_xlabel('Wavelength ($\\mu$m)')\n",
    "ax.set_ylabel('Intensity')\n"
   ]
  },
  {
   "cell_type": "markdown",
   "metadata": {},
   "source": [
    "## And fit to model\n",
    "Linear temperature gradient along a line of a grey body with noise"
   ]
  },
  {
   "cell_type": "code",
   "execution_count": null,
   "metadata": {},
   "outputs": [],
   "source": [
    "mod_grey = ExpressionModel('A * epsilon / (lam**5 * (exp(B / (lam * T)) - 1))', independent_vars=['lam'])\n",
    "params = mod_grey.make_params(\n",
    "    A={'value': A, 'vary': False},\n",
    "    B={'value': B, 'vary': False},\n",
    "    epsilon={'value': 0.5, 'min': 0, 'max': 1},\n",
    "    T={'value': 1500+abs0, 'min': 300, 'max': 5300},\n",
    ")\n",
    "\n",
    "T_pred = np.zeros_like(T_test)\n",
    "epsilon_pred = np.zeros_like(T_test)\n",
    "pred_covar = np.zeros((len(T_test), 2, 2))\n",
    "\n",
    "for i_T in range(len(T_test)):\n",
    "    result = mod_grey.fit(I_test[:, i_T], params, lam=lam_test)\n",
    "    T_pred[i_T] = result.best_values['T']\n",
    "    epsilon_pred[i_T] = result.best_values['epsilon']\n",
    "    pred_covar[i_T] = result.covar\n"
   ]
  },
  {
   "cell_type": "code",
   "execution_count": null,
   "metadata": {},
   "outputs": [],
   "source": [
    "plt.figure()\n",
    "plt.plot(T_pred-abs0)\n",
    "\n",
    "plt.figure()\n",
    "plt.plot(epsilon_pred)"
   ]
  },
  {
   "cell_type": "code",
   "execution_count": null,
   "metadata": {},
   "outputs": [],
   "source": [
    "std = 2*np.sqrt(pred_covar[:, 1, 1])\n",
    "plt.figure()\n",
    "plt.fill_between(np.arange(len(pred_covar)), std, -std, \n",
    "                 color='gray', alpha=0.5)\n",
    "plt.plot(T_pred - T_test)\n",
    "\n",
    "std = np.sqrt(pred_covar[:, 0, 0])\n",
    "plt.figure()\n",
    "plt.fill_between(np.arange(len(pred_covar)), std, -std, \n",
    "                 color='gray', alpha=0.5)\n",
    "plt.plot(epsilon - epsilon_pred)"
   ]
  },
  {
   "cell_type": "code",
   "execution_count": null,
   "metadata": {},
   "outputs": [],
   "source": [
    "result"
   ]
  },
  {
   "cell_type": "code",
   "execution_count": null,
   "metadata": {},
   "outputs": [],
   "source": []
  }
 ],
 "metadata": {
  "kernelspec": {
   "display_name": "specam",
   "language": "python",
   "name": "python3"
  },
  "language_info": {
   "codemirror_mode": {
    "name": "ipython",
    "version": 3
   },
   "file_extension": ".py",
   "mimetype": "text/x-python",
   "name": "python",
   "nbconvert_exporter": "python",
   "pygments_lexer": "ipython3",
   "version": "3.11.9"
  }
 },
 "nbformat": 4,
 "nbformat_minor": 2
}
