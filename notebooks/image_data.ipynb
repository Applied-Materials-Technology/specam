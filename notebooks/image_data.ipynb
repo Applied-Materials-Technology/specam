{
 "cells": [
  {
   "cell_type": "code",
   "execution_count": null,
   "metadata": {},
   "outputs": [],
   "source": [
    "import numpy as np\n",
    "import matplotlib.pyplot as plt\n",
    "\n",
    "import specam\n",
    "from specam.constants import abs0\n",
    "from specam.data import SpectralDataGenerated\n",
    "\n",
    "%matplotlib inline"
   ]
  },
  {
   "cell_type": "code",
   "execution_count": null,
   "metadata": {},
   "outputs": [],
   "source": [
    "camera_name = 'specim_fx17'\n",
    "camera_specs = {\n",
    "    'kind': 'linspace',\n",
    "    'start': 900e-9,\n",
    "    'stop': 1700e-9,\n",
    "    'num': 224,\n",
    "    'signal_noise_ratio': 1000,\n",
    "    'colour': 'red',\n",
    "}\n",
    "camera = specam.Camera.create(camera_name, **camera_specs)\n"
   ]
  },
  {
   "cell_type": "code",
   "execution_count": null,
   "metadata": {},
   "outputs": [],
   "source": [
    "# Generate test thermal image\n",
    "# resolution = (512, 640)\n",
    "# resolution = (256, 320)\n",
    "resolution = (128, 160)\n",
    "grid = np.meshgrid(*[np.linspace(0, 1, x) for x in resolution], indexing=\"ij\")\n",
    "T_true = (np.sin(20*grid[0]) * grid[1] * grid[0] + 1) / 2\n",
    "T_true = T_true * 3000 + 10 + abs0\n",
    "T_true = T_true.flatten()\n",
    "\n",
    "spectral_data = SpectralDataGenerated.create(\n",
    "    camera.props[\"lam_vals\"],\n",
    "    T_true,\n",
    "    specam.models.intensity_func,\n",
    "    specam.models.intensity_func_log,\n",
    "    {\n",
    "        'C': 0.05, 'D': 0.9, \n",
    "        'lam_0': camera.props[\"lam_vals\"][0],\n",
    "        'lam_inf': camera.props[\"lam_vals\"][-1],\n",
    "    },\n",
    "    signal_noise_ratio = camera.props['signal_noise_ratio']\n",
    ")"
   ]
  },
  {
   "cell_type": "code",
   "execution_count": null,
   "metadata": {},
   "outputs": [],
   "source": [
    "results = specam.fit_data('scipy', spectral_data)"
   ]
  },
  {
   "cell_type": "code",
   "execution_count": null,
   "metadata": {},
   "outputs": [],
   "source": [
    "# init_vals = np.vstack([results[x] for x in ['T', 'C', 'D']]).T\n",
    "# results = specam.fit_data('scipy', spectral_data, init_vals=init_vals)"
   ]
  },
  {
   "cell_type": "code",
   "execution_count": null,
   "metadata": {},
   "outputs": [],
   "source": [
    "T_true = spectral_data['T']\n",
    "T_pred = results['T']\n",
    "abs_error = T_pred - T_true\n",
    "rel_error = abs_error / T_true\n",
    "plot_error = rel_error * 100\n",
    "\n",
    "fig, axes = plt.subplots(3, 1, figsize=(5, 8))\n",
    "\n",
    "ax = axes[0]\n",
    "ax.set_title('True temperature')\n",
    "im = ax.imshow(T_true.reshape(resolution))\n",
    "fig.colorbar(im, ax=ax, label='Temperature (K)')\n",
    "ax.axis('off')\n",
    "\n",
    "ax = axes[1]\n",
    "ax.set_title('Predicted temperature')\n",
    "im = ax.imshow(T_pred.reshape(resolution))\n",
    "fig.colorbar(im, ax=ax, label='Temperature (K)')\n",
    "ax.axis('off')\n",
    "\n",
    "ax = axes[2]\n",
    "ax.set_title('Prediction error')\n",
    "absmax = np.max(np.abs(plot_error))\n",
    "im =ax.imshow(\n",
    "    plot_error.reshape(resolution), \n",
    "    vmin=-absmax, vmax=absmax, cmap='seismic'\n",
    ")\n",
    "fig.colorbar(im, ax=ax, label='Relative error (%)')\n",
    "ax.axis('off')\n",
    "\n",
    "plt.savefig('spectral_image_test.pdf')"
   ]
  },
  {
   "cell_type": "code",
   "execution_count": null,
   "metadata": {},
   "outputs": [],
   "source": [
    "T_std_dev = np.sqrt(results['covar'][:, 0, 0])\n",
    "\n",
    "plt.figure(figsize=(4, 3))\n",
    "plt.hist(T_std_dev, bins=20, range=(0, 5));\n",
    "plt.xlabel('Fit standard deviation temperature (K)')\n",
    "plt.ylabel('Frequency')"
   ]
  },
  {
   "cell_type": "code",
   "execution_count": null,
   "metadata": {},
   "outputs": [],
   "source": [
    "T_pred = results['T']\n",
    "T_std_dev = np.sqrt(results['covar'][:, 0, 0])\n",
    "\n",
    "abs_error = T_pred - T_true\n",
    "sigma_error = abs_error / T_std_dev\n",
    "\n",
    "plt.figure(figsize=(4, 3))\n",
    "plt.hist(sigma_error, bins=20, range=(-5, 5));\n",
    "plt.xlabel('Error (fit standard deviation)')\n",
    "plt.ylabel('Frequency')"
   ]
  }
 ],
 "metadata": {
  "kernelspec": {
   "display_name": "Python (specam)",
   "language": "python",
   "name": "specam"
  },
  "language_info": {
   "codemirror_mode": {
    "name": "ipython",
    "version": 3
   },
   "file_extension": ".py",
   "mimetype": "text/x-python",
   "name": "python",
   "nbconvert_exporter": "python",
   "pygments_lexer": "ipython3",
   "version": "3.11.9"
  }
 },
 "nbformat": 4,
 "nbformat_minor": 2
}
