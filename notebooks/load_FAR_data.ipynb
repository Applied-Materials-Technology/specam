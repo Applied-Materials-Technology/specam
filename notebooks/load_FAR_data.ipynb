{
 "cells": [
  {
   "cell_type": "code",
   "execution_count": null,
   "metadata": {},
   "outputs": [],
   "source": [
    "from pathlib import Path\n",
    "from pprint import pprint\n",
    "\n",
    "import numpy as np\n",
    "import matplotlib.pyplot as plt\n",
    "\n",
    "from specam import fit_data, SpectrumPlot\n",
    "from specam.data import SpectralDataMeasured\n",
    "from specam.constants import abs0, c1, c2\n",
    "\n",
    "%matplotlib inline"
   ]
  },
  {
   "cell_type": "code",
   "execution_count": null,
   "metadata": {},
   "outputs": [],
   "source": [
    "data_dir = Path('/Users/xg3401/projects/spec_cam/FAR_test_data/25010909.log')\n",
    "spectral_data = SpectralDataMeasured.load_far_data(data_dir, start_idx=90)"
   ]
  },
  {
   "cell_type": "code",
   "execution_count": null,
   "metadata": {},
   "outputs": [],
   "source": [
    "pprint(spectral_data.keys())\n",
    "print(f'Temperature will be fitted to `{spectral_data.intensity_label}`')"
   ]
  },
  {
   "cell_type": "code",
   "execution_count": null,
   "metadata": {},
   "outputs": [],
   "source": [
    "result_lmfit = fit_data('lmfit', spectral_data)\n",
    "result_ratio = fit_data(\n",
    "    'ratio', spectral_data, polyorder=0, combinations=10, spectral_samples=100\n",
    ")"
   ]
  },
  {
   "cell_type": "code",
   "execution_count": null,
   "metadata": {},
   "outputs": [],
   "source": [
    "plot = SpectrumPlot()\n",
    "plot.add_data(kind='true', plot_data=spectral_data, label='measured')\n",
    "plot.add_data(plot_data=result_lmfit, label='scipy')\n",
    "plot.add_data(plot_data=result_ratio, label='ratio')\n",
    "plot.add_legend()"
   ]
  },
  {
   "cell_type": "code",
   "execution_count": null,
   "metadata": {},
   "outputs": [],
   "source": [
    "fig, axes = plt.subplots(2, 1, sharex=True, figsize=(5,3))\n",
    "\n",
    "ax = axes[0]\n",
    "ax.plot(result_lmfit['T'] - abs0, label='lmfit', alpha=0.5)\n",
    "ax.plot(result_ratio['T'] - abs0, label='ratio', alpha=0.5)\n",
    "ax.plot(spectral_data['Temp'], label='FAR', alpha=0.5)\n",
    "ax.legend()\n",
    "ax.set_ylabel('Temperature ($^\\circ$C)')\n",
    "\n",
    "ax = axes[1]\n",
    "ax.plot(result_lmfit['T'] - abs0 - spectral_data['Temp'], label='lmfit', alpha=0.5)\n",
    "ax.plot(result_ratio['T'] - abs0 - spectral_data['Temp'], label='ratio', alpha=0.5)\n",
    "ax.set_ylim((-8, 8))\n",
    "ax.legend()\n",
    "ax.set_ylabel('Error ($^\\circ$C)')\n",
    "ax.set_xlabel('Index')\n",
    "\n",
    "plt.tight_layout()\n",
    "plt.savefig(\"far_comparison.pdf\")"
   ]
  }
 ],
 "metadata": {
  "kernelspec": {
   "display_name": "specam",
   "language": "python",
   "name": "python3"
  },
  "language_info": {
   "codemirror_mode": {
    "name": "ipython",
    "version": 3
   },
   "file_extension": ".py",
   "mimetype": "text/x-python",
   "name": "python",
   "nbconvert_exporter": "python",
   "pygments_lexer": "ipython3",
   "version": "3.11.9"
  }
 },
 "nbformat": 4,
 "nbformat_minor": 2
}
